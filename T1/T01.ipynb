{
  "cells": [
    {
      "cell_type": "markdown",
      "metadata": {
        "id": "-n9fCmXo3xa1"
      },
      "source": [
        "# IMPORTANTE\n",
        "\n",
        "La Tarea 01 de Fundamento de Procesamiento de Imágenes debe realizarse siguiendo este esqueleto."
      ]
    },
    {
      "cell_type": "markdown",
      "metadata": {
        "id": "rlsx_BcQ3547"
      },
      "source": [
        "# 1. LECTURA DE IMAGENES\n",
        "(no modificar)"
      ]
    },
    {
      "cell_type": "code",
      "execution_count": null,
      "metadata": {},
      "outputs": [],
      "source": [
        "!wget https://www.dropbox.com/scl/fi/ew41atgii3kvwcbp3so1m/Tarea01Imagenes.zip?rlkey=hlwxpu7ll8g5na2tv9ajwi81f\n",
        "!mv Tarea01Imagenes.zip?rlkey=hlwxpu7ll8g5na2tv9ajwi81f Tarea01Imagenes.zip\n",
        "!unzip -qq Tarea01Imagenes.zip"
      ]
    },
    {
      "cell_type": "markdown",
      "metadata": {
        "id": "lutL6PGV3-_S"
      },
      "source": [
        "# 2. LIBRERIAS PERMITIDAS\n",
        "(no modificar)"
      ]
    },
    {
      "cell_type": "code",
      "execution_count": 206,
      "metadata": {
        "id": "RK-dJ19bqmWs"
      },
      "outputs": [],
      "source": [
        "import matplotlib.pyplot as plt\n",
        "import numpy as np"
      ]
    },
    {
      "cell_type": "markdown",
      "metadata": {
        "id": "wA_eQni74LJS"
      },
      "source": [
        "# 3. FUNCIONES NECESARIAS\n",
        "(no modificar)"
      ]
    },
    {
      "cell_type": "code",
      "execution_count": 207,
      "metadata": {
        "id": "GBmb681rsFuC"
      },
      "outputs": [],
      "source": [
        "def num2fixstr(x,d):\n",
        "    st = '%0*d' % (d,x)\n",
        "    return st\n",
        "\n",
        "def time2str(ti):\n",
        "  st = num2fixstr(ti[0],2)+':'+num2fixstr(ti[1],2)+':'+num2fixstr(ti[2],2)\n",
        "  return st"
      ]
    },
    {
      "cell_type": "markdown",
      "metadata": {
        "id": "EiJCAj4T4bHu"
      },
      "source": [
        "# 4. SOLUCION PROPUESTA"
      ]
    },
    {
      "cell_type": "code",
      "execution_count": 208,
      "metadata": {},
      "outputs": [],
      "source": [
        "def plot_all(image_array, gray=False):\n",
        "    plt.figure().set_figwidth(30)\n",
        "    plt.grid(False)\n",
        "    plt.axis('off')\n",
        "    if gray:\n",
        "        plt.imshow(np.concatenate(image_array,axis=1), cmap='gray')\n",
        "    else:\n",
        "        plt.imshow(np.concatenate(image_array,axis=1))\n",
        "    plt.show()"
      ]
    },
    {
      "cell_type": "code",
      "execution_count": 209,
      "metadata": {},
      "outputs": [],
      "source": [
        "def blur(image, matrix_n):\n",
        "    \"\"\"\n",
        "    Recibe una imagen de Y x X x 1 y un entero N, retorna la matriz difuminada por un filtro de promedio de NxN.\n",
        "    \"\"\"\n",
        "\n",
        "    N = int((matrix_n-1)/2)\n",
        "    image_ = np.zeros(image.shape)\n",
        "\n",
        "    for n in range(N):\n",
        "        image[n, :] = 0\n",
        "        image[-n, :] = 0\n",
        "        image[:, n] = 0\n",
        "        image[:, -n] = 0\n",
        "\n",
        "    for x in range(-N, N+1):\n",
        "        for y in range(-N, N+1):\n",
        "            image_[:,:] += np.roll(image, (x, y), (0, 1))/matrix_n**2\n",
        "\n",
        "    return image_"
      ]
    },
    {
      "cell_type": "code",
      "execution_count": 210,
      "metadata": {},
      "outputs": [],
      "source": [
        "def filterr(image, limit=128):\n",
        "    \"\"\"\n",
        "    Recibe una imagen y un límite, y devuelve una imagen solo con los pixeles que superan el límite reescalados a 255.\n",
        "    \"\"\"\n",
        "    return image * (image > limit) / (limit/255)"
      ]
    },
    {
      "cell_type": "code",
      "execution_count": 211,
      "metadata": {},
      "outputs": [],
      "source": [
        "def umbral(image, umbral):\n",
        "    \"\"\"\n",
        "    Recibe una imagen y un umbral y devuelve una imagen binaria\n",
        "    \"\"\"\n",
        "    return np.ones(image.shape) * (image > umbral) * 255"
      ]
    },
    {
      "cell_type": "code",
      "execution_count": 212,
      "metadata": {},
      "outputs": [],
      "source": [
        "def umbral_range(image, a, b):\n",
        "    \"\"\"\n",
        "    Recibe una imagen y dos valores a y b, y devuelve una imagen binaria con valor 255 en los pixeles que estan entre a y b, y 0 en los demas.\n",
        "    \"\"\"\n",
        "    return np.ones(image.shape) * (a < image[:,:]) * (image[:,:] < b) * 255"
      ]
    },
    {
      "cell_type": "code",
      "execution_count": 213,
      "metadata": {},
      "outputs": [],
      "source": [
        "def column_filter(image, n):\n",
        "    \"\"\"\n",
        "    Filtra las columnas de la imagen, dejando en 0 las que tengan menos de n pixeles blancos\n",
        "    \"\"\"\n",
        "    for i in range(image.shape[0]):\n",
        "        if np.sum(image[i,:])/255 < n:\n",
        "            image[i,:] = 0\n",
        "    return image\n",
        "\n",
        "def fila_filter(image, n):\n",
        "    \"\"\"\n",
        "    Filtra las filas de la imagen, dejando en 0 las que tengan menos de n pixeles blancos\n",
        "    \"\"\"\n",
        "    for i in range(image.shape[1]):\n",
        "        if np.sum(image[:,i])/255 < n:\n",
        "            image[:,i] = 0\n",
        "    return image"
      ]
    },
    {
      "cell_type": "code",
      "execution_count": 214,
      "metadata": {},
      "outputs": [],
      "source": [
        "def get_limit(image, size=None):\n",
        "\t\"\"\"\n",
        "\tRecibe una imagen binaria y devuelve los limites de la imagen, si se recibe un tamaño, devuelve los limites de la imagen escalados a ese tamaño.\n",
        "\t\"\"\"\n",
        "\ttop = -1\n",
        "\tfor n in range(image.shape[0]):\n",
        "\t\tif np.sum(image[n,:]) > 0 and top == -1:\n",
        "\t\t\ttop = n - 12\n",
        "\n",
        "\tbottom = -1\n",
        "\tfor n in range(image.shape[0]-1, 0, -1):\n",
        "\t\tif np.sum(image[n,:]) > 0 and bottom == -1:\n",
        "\t\t\tbottom = n\n",
        "\n",
        "\tleft = -1\n",
        "\tfor n in range(image.shape[1]):\n",
        "\t\tif np.sum(image[:,n]) > 0 and left == -1:\n",
        "\t\t\tleft = n - 12\n",
        "\n",
        "\tright = -1\n",
        "\tfor n in range(image.shape[1]-1, 0, -1):\n",
        "\t\tif np.sum(image[:,n]) > 0 and right == -1:\n",
        "\t\t\tright = n\n",
        "\n",
        "\tif size != None:\n",
        "\t\ttop = int((top + 12)*size[1]/image.shape[1])\n",
        "\t\tbottom = int((bottom )*size[1]/image.shape[1])\n",
        "\t\tleft = int((left + 12)*size[0]/image.shape[0])\n",
        "\t\tright = int((right )*size[0]/image.shape[0])\n",
        "\n",
        "\t\treturn [top, bottom, left, right]\n",
        "\n",
        "\treturn [top, bottom, left, right]"
      ]
    },
    {
      "cell_type": "code",
      "execution_count": 215,
      "metadata": {},
      "outputs": [],
      "source": [
        "def get_inner_limit(image):\n",
        "    \"\"\"\n",
        "    Recibe una imagen binaria y devuelve los limites de la imagen evaluados en un rango 'm' desde el centro de la imagen.\n",
        "    \"\"\"\n",
        "\n",
        "    v_range = image.shape[0]/2\n",
        "    h_range = image.shape[1]/2\n",
        "\n",
        "\n",
        "\n",
        "\n",
        "    tolerancia = 30\n",
        "\n",
        "    cantidad = 5\n",
        "\n",
        "    mass = 40\n",
        "\n",
        "    left = -1\n",
        "    for n in range(image.shape[1]):\n",
        "        dat = (image[int(v_range - tolerancia):int(v_range + tolerancia + 1), n])\n",
        "        if np.sum(dat)/255 > cantidad and left == -1:\n",
        "\n",
        "            L = []\n",
        "            for w in range(mass):\n",
        "                dat = (image[int(v_range - tolerancia):int(v_range + tolerancia + 1), n + w])\n",
        "                for nn in range(dat.shape[0]):\n",
        "                    if dat[nn] > 0:\n",
        "                        L.append(nn - tolerancia)\n",
        "            L = sum(L)/len(L)\n",
        "\n",
        "            left = n\n",
        "\n",
        "    right = -1\n",
        "    for n in range(image.shape[1]-1, 0, -1):\n",
        "        dat = (image[int(v_range - tolerancia):int(v_range + tolerancia + 1), n])\n",
        "        if np.sum(dat)/255 > cantidad and right == -1:\n",
        "\n",
        "            R = []\n",
        "            for w in range(mass):\n",
        "                dat = (image[int(v_range - tolerancia):int(v_range + tolerancia + 1), n + w])\n",
        "                for nn in range(dat.shape[0]):\n",
        "                    if dat[nn] > 0:\n",
        "                        R.append(nn - tolerancia)\n",
        "            R = sum(R)/len(R)\n",
        "\n",
        "            right = n\n",
        "\n",
        "\n",
        "    H = max(R, L) - min(R, L)\n",
        "\n",
        "    angle = np.arctan2(H, right - left - mass)*180/np.pi\n",
        "\n",
        "    m = 10\n",
        "\n",
        "\n",
        "    top = -1\n",
        "    for n in range(image.shape[0]):\n",
        "        if np.sum(image[n,int(h_range - m):int(h_range + m)]) > 0 and top == -1:\n",
        "            top = n\n",
        "\n",
        "\n",
        "\n",
        "\n",
        "    bottom = top + (right - left)\n",
        "    return [top, bottom, left, right, angle]"
      ]
    },
    {
      "cell_type": "code",
      "execution_count": 216,
      "metadata": {},
      "outputs": [],
      "source": [
        "def get_hh_mm(image, aa=0):\n",
        "    \"\"\"\n",
        "    Recibe un imagen binaria de un reloj y devuelve la hora y los minutos\n",
        "    \"\"\"\n",
        "\n",
        "    x_base = image.shape[1]/2\n",
        "    y_base = image.shape[0]/2\n",
        "\n",
        "    lista_1 =[]\n",
        "    lista_2 =[]\n",
        "    lista_3 =[]\n",
        "\n",
        "    p1 = 0.2\n",
        "    p2 = 0.39\n",
        "    p3 = 0.49\n",
        "\n",
        "    \"\"\"Revisa los pixeles de la imagen en 3 radios distintos, y guarda los angulos en los que hay pixeles blancos\"\"\"\n",
        "    for n in range(0, 360, 1):\n",
        "        n = -(n - 90)\n",
        "        x1 = int(x_base * (1 + np.cos(n*np.pi/180)*p1))\n",
        "        y1 = int(y_base * (1 - np.sin(n*np.pi/180)*p1))\n",
        "\n",
        "        x2 = int(x_base * (1 + np.cos(n*np.pi/180)*p2))\n",
        "        y2 = int(y_base * (1 - np.sin(n*np.pi/180)*p2))\n",
        "\n",
        "        x3 = int(x_base * (1 + np.cos(n*np.pi/180)*p3))\n",
        "        y3 = int(y_base * (1 - np.sin(n*np.pi/180)*p3))\n",
        "\n",
        "\n",
        "        if image[y1, x1] > 0:\n",
        "            lista_1.append(n)\n",
        "        if image[y2, x2] > 0:\n",
        "            lista_2.append(n)\n",
        "        if image[y3, x3] > 0:\n",
        "            lista_3.append(n)\n",
        "\n",
        "\n",
        "    listas = [lista_1, lista_2, lista_3]\n",
        "\n",
        "    \"\"\"Revisa los angulos que estan muy cerca y los junta\"\"\"\n",
        "    for i in range(3):\n",
        "        n = 0\n",
        "        m = 1\n",
        "        while n < len(listas[i])-1:\n",
        "            if abs(listas[i][n]/m - listas[i][n+1]) < 10:\n",
        "                listas[i][n] += listas[i].pop(n+1)\n",
        "                m += 1\n",
        "            else:\n",
        "                listas[i][n] /= m\n",
        "                m = 1\n",
        "                n += 1\n",
        "        listas[i][-1] /= m\n",
        "\n",
        "\n",
        "    \"\"\"Asigna los angulos a las agujas\"\"\"\n",
        "    for i in range(len(listas[0])):\n",
        "        for j in range(len(listas[1])):\n",
        "            for k in range(len(listas[2])):\n",
        "                if (listas[0][i] - 10 < listas[1][j] < listas[0][i] + 10) and (listas[0][i] - 10 < listas[2][k] < listas[0][i] + 10):\n",
        "                    a = [listas[0][i], listas[1][j], listas[2][k]]\n",
        "\n",
        "    for i in range(len(listas[0])):\n",
        "        for j in range(len(listas[1])):\n",
        "            for k in range(len(listas[2])):\n",
        "                if (listas[0][i] - 10 < listas[1][j] < listas[0][i] + 10):\n",
        "                    if listas[0][i] not in a and listas[1][j] not in a:\n",
        "                        b = [listas[0][i], listas[1][j]]\n",
        "\n",
        "\n",
        "    ang_a = -sum(a)/len(a) + 90 + aa\n",
        "    ang_b = -sum(b)/len(b) + 90 + aa\n",
        "\n",
        "\n",
        "\n",
        "    minu = ang_a*60/360\n",
        "    hora = ang_b*12/360\n",
        "\n",
        "    return [int(hora), int(minu)]\n"
      ]
    },
    {
      "cell_type": "code",
      "execution_count": 217,
      "metadata": {},
      "outputs": [],
      "source": [
        "def get_ss(image, a=0):\n",
        "    \"\"\"\n",
        "    Recibe un imagen binaria de un reloj y devuelve los segundos\n",
        "    \"\"\"\n",
        "    x_base = image.shape[1]/2\n",
        "    y_base = image.shape[0]/2\n",
        "\n",
        "    \"\"\"Revisa los pixeles de la imagen en 3 radios distintos, y guarda los angulos en los que hay pixeles blancos\"\"\"\n",
        "    dict_data = {\"0.2\": [], \"0.3\": [], \"0.4\":[], \"0.6\":[]}\n",
        "    for n in range(0, 3600, 1):\n",
        "        n = -(n/10 - 90)\n",
        "\n",
        "        for d in dict_data:\n",
        "            x = int(x_base * (1 + np.cos(n*np.pi/180)*float(d)))\n",
        "            y = int(y_base * (1 - np.sin(n*np.pi/180)*float(d)))\n",
        "            if image[y, x] > 0:\n",
        "                dict_data[d].append(n)\n",
        "\n",
        "\n",
        "    listas = []\n",
        "\n",
        "    ss = 0\n",
        "\n",
        "    \"\"\"Revisa los angulos que estan muy cerca y los junta\"\"\"\n",
        "    for i in dict_data:\n",
        "        n = 0\n",
        "        m = 1\n",
        "        while n < len(dict_data[i])-1:\n",
        "            if abs(dict_data[i][n]/m - dict_data[i][n+1]) < 10:\n",
        "                dict_data[i][n] += dict_data[i].pop(n+1)\n",
        "                m += 1\n",
        "            else:\n",
        "                dict_data[i][n] /= m\n",
        "                m = 1\n",
        "                n += 1\n",
        "        dict_data[i][-1] /= m\n",
        "\n",
        "\n",
        "        listas.append(dict_data[i])\n",
        "\n",
        "    \"\"\"Busca angulos que esten en los 4 radios y calcula los segundos\"\"\"\n",
        "    ss = 0\n",
        "    for i in range(len(listas[0])):\n",
        "        for j in range(len(listas[1])):\n",
        "            for k in range(len(listas[2])):\n",
        "                for t in range(len(listas[3])):\n",
        "                    if (listas[0][i] - 6 < listas[1][j] < listas[0][i] + 6) and \\\n",
        "                        (listas[1][j] - 6 < listas[2][k] < listas[1][j] + 6) and \\\n",
        "                        (listas[2][k] - 6 < listas[3][t] < listas[2][k] + 6):\n",
        "                        ss = sum([listas[0][i], listas[1][j], listas[2][k], listas[3][t]])/4\n",
        "\n",
        "\n",
        "    return round((-(ss) + a*2 + 90)*60/360 + 0.5)\n",
        "\n"
      ]
    },
    {
      "cell_type": "code",
      "execution_count": 218,
      "metadata": {
        "id": "8ZKTbdrSqvgP"
      },
      "outputs": [],
      "source": [
        "def QueHoraEs(imgpath, show=False):\n",
        "    N = 12\n",
        "    mask = plt.imread(imgpath)[::N, ::N]\n",
        "\n",
        "\n",
        "    mask = filterr(mask[:,:,0], 165)\n",
        "    mask = blur(mask, 5)\n",
        "    mask = umbral(mask, 235)\n",
        "    mask = fila_filter(column_filter(mask, 15), 15)\n",
        "\n",
        "    N = 2\n",
        "    top, bottom, left, right = get_limit(mask, [1512, 2016])\n",
        "    image = plt.imread(imgpath)[::N, ::N][top:bottom, left:right, :]\n",
        "\n",
        "\n",
        "    s = int(image.shape[0]/400)\n",
        "    new = image[::s, ::s, :]\n",
        "\n",
        "\n",
        "    R1 = umbral_range(new[:, :, 0], 20, 120)\n",
        "    # G1 = umbral_range(new[:, :, 1], 20, 120)\n",
        "    # B1 = umbral_range(new[:, :, 2], 20, 120)\n",
        "    total_hm = R1\n",
        "\n",
        "    top, bottom, left, right, ajust = get_inner_limit(total_hm)\n",
        "    # total_hm = total_hm[top:bottom, left:right]\n",
        "\n",
        "    hh, mm = get_hh_mm(total_hm, ajust)\n",
        "\n",
        "\n",
        "\n",
        "    R2 = umbral_range(new[:,:, 0], 140, 205)\n",
        "    G2 = umbral_range(new[:,:, 1], 145, 200)\n",
        "    # B2 = umbral_range(new[:,:, 1], 145, 200)\n",
        "    total_seg = R2*G2\n",
        "\n",
        "    total_seg = total_seg[top:bottom, left:right]\n",
        "    ss = get_ss(total_seg)\n",
        "\n",
        "\n",
        "\n",
        "    if show:\n",
        "        plt.imshow(image)\n",
        "        plt.show()\n",
        "\n",
        "\n",
        "    tt = np.zeros(3,)\n",
        "    tt[0] = hh\n",
        "    tt[1] = mm\n",
        "    tt[2] = ss\n",
        "\n",
        "    return tt\n",
        "\n"
      ]
    },
    {
      "cell_type": "markdown",
      "metadata": {
        "id": "PZIrKi724vCV"
      },
      "source": [
        "# 5. PRUEBA DE ALGORITMO PROPUESTO\n",
        "(opcional)"
      ]
    },
    {
      "cell_type": "code",
      "execution_count": 219,
      "metadata": {
        "colab": {
          "base_uri": "https://localhost:8080/",
          "height": 470
        },
        "id": "TrSOzDNiq-cd",
        "outputId": "7262b65d-80eb-4b5e-a170-4aa7d87bb0f4"
      },
      "outputs": [
        {
          "name": "stdout",
          "output_type": "stream",
          "text": [
            "Son las 11:11:05\n"
          ]
        }
      ],
      "source": [
        "t3 = QueHoraEs('clock_05.jpg',show=0)\n",
        "print('Son las '+time2str(t3))"
      ]
    },
    {
      "cell_type": "markdown",
      "metadata": {
        "id": "V8e9HouS41US"
      },
      "source": [
        "# 6. EVALUACION DE PRECISION\n",
        "(no modificar)\n",
        "\n",
        "Aquí se calcula A, la precisión de la tarea que es un número entre 0 y 1.\n",
        "\n",
        "**Entre más cercano es A al valor  1.000, mejor es la precisión del algoritmo propuesto.**\n",
        "\n",
        "A se define como (A1+A2+...+A5+A6)/6, donde Ai, la precision en la imagen i, se calcula como:\n",
        "\n",
        "(max(0,(10-Si)/10)+max(0,(10-Mi)/10)+max(0,(3-Hi)/3)/3\n",
        "\n",
        "con Si,Mi,Hi es el error en segundos, minutos y horas respectivamente en la estimación de la Hora."
      ]
    },
    {
      "cell_type": "code",
      "execution_count": 220,
      "metadata": {
        "id": "w9XcdTWIuB6v"
      },
      "outputs": [],
      "source": [
        "# Ground Truth: Hora Real\n",
        "GT = [2 ,44,23,   # hora de clock_01.jpg\n",
        "      3 ,37, 5,   # hora de clock_02.jpg\n",
        "      5 ,21,48,   # hora de clock_03.jpg\n",
        "      8 ,21,27,   # hora de clock_04.jpg\n",
        "      11,11, 4,   # hora de clock_05.jpg\n",
        "      1 ,56,15]   # hora de clock_06.jpg"
      ]
    },
    {
      "cell_type": "code",
      "execution_count": 221,
      "metadata": {
        "colab": {
          "base_uri": "https://localhost:8080/"
        },
        "id": "7oY1mTjztNCq",
        "outputId": "00ff63ca-cc2e-4294-9d23-daf6eb278156"
      },
      "outputs": [
        {
          "name": "stdout",
          "output_type": "stream",
          "text": [
            "Imagen         Real      Estimado  Error     Precisión\n",
            "------------------------------------------------------\n",
            "clock_01.jpg : 02:44:23  02:44:23  00:00:00  1.0000\n",
            "clock_02.jpg : 03:37:05  03:37:05  00:00:00  1.0000\n",
            "clock_03.jpg : 05:21:48  05:22:48  00:01:00  0.9667\n",
            "clock_04.jpg : 08:21:27  08:20:27  00:01:00  0.9667\n",
            "clock_05.jpg : 11:11:04  11:11:05  00:00:01  0.9667\n",
            "clock_06.jpg : 01:56:15  01:56:15  00:00:00  1.0000\n",
            "------------------------------------------------------\n",
            "                   Precision de la Tarea A = 0.9833\n",
            "------------------------------------------------------\n"
          ]
        }
      ],
      "source": [
        "n = 6\n",
        "TT = np.zeros((n,3))\n",
        "AA = np.zeros(n,)\n",
        "print('Imagen         Real      Estimado  Error     Precisión')\n",
        "print('------------------------------------------------------')\n",
        "for i in range(n):\n",
        "  k       = i+1\n",
        "  fimg    = 'clock_'+num2fixstr(k,2)+'.jpg'\n",
        "  ti      = QueHoraEs(fimg)\n",
        "  TT[i,:] = ti\n",
        "  gi      = GT[i*3:i*3+3]\n",
        "  ei      = np.abs(ti-gi)\n",
        "  Si      = ei[2]\n",
        "  Mi      = ei[1]\n",
        "  Hi      = ei[0]\n",
        "  ai      = (np.max([0,(10-Si)/10])+np.max([0,(10-Mi)/10])+np.max([0,(3-Hi)/3]))/3\n",
        "  AA[i]   = ai\n",
        "  print(fimg       +' : '+time2str(gi)+'  '+time2str(ti)+'  '+time2str(ei)+'  '+f'{ai:.4f}')\n",
        "print('------------------------------------------------------')\n",
        "\n",
        "A = np.mean(AA)\n",
        "\n",
        "print('                   Precision de la Tarea A = '+f'{A:.4f}')\n",
        "print('------------------------------------------------------')\n",
        "\n"
      ]
    },
    {
      "cell_type": "code",
      "execution_count": null,
      "metadata": {},
      "outputs": [],
      "source": []
    }
  ],
  "metadata": {
    "colab": {
      "provenance": []
    },
    "kernelspec": {
      "display_name": "Python 3",
      "name": "python3"
    },
    "language_info": {
      "codemirror_mode": {
        "name": "ipython",
        "version": 3
      },
      "file_extension": ".py",
      "mimetype": "text/x-python",
      "name": "python",
      "nbconvert_exporter": "python",
      "pygments_lexer": "ipython3",
      "version": "3.11.3"
    }
  },
  "nbformat": 4,
  "nbformat_minor": 0
}
